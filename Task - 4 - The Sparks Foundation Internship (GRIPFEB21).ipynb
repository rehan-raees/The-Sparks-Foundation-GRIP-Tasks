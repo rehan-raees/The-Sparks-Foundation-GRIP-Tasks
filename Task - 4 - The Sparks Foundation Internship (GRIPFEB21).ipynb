{
 "cells": [
  {
   "cell_type": "markdown",
   "metadata": {},
   "source": [
    "# **The Sparks Foundation Internship (GRIPFEB21)**\n",
    "\n",
    "## Name : Rehan Raees\n",
    "\n",
    "## TASK 4 : Exploratory Data Analysis - Terrorism\n",
    "\n",
    "### Perform ‘Exploratory Data Analysis’ on dataset ‘Global Terrorism’\n",
    "#### 1 - As a security/defense analyst, try to find out the hot zone of terrorism. \n",
    "#### 2 - What all security issues and insights you can derive by EDA?"
   ]
  },
  {
   "cell_type": "markdown",
   "metadata": {},
   "source": [
    "## Import the relevant libraries"
   ]
  },
  {
   "cell_type": "code",
   "execution_count": 1,
   "metadata": {},
   "outputs": [],
   "source": [
    "import numpy as np\n",
    "import pandas as pd\n",
    "import matplotlib.pyplot as plt\n",
    "import seaborn as sns\n",
    "sns.set()\n",
    "\n",
    "%matplotlib inline"
   ]
  },
  {
   "cell_type": "markdown",
   "metadata": {},
   "source": [
    "## Load the data"
   ]
  },
  {
   "cell_type": "code",
   "execution_count": 2,
   "metadata": {},
   "outputs": [
    {
     "data": {
      "text/html": [
       "<div>\n",
       "<style scoped>\n",
       "    .dataframe tbody tr th:only-of-type {\n",
       "        vertical-align: middle;\n",
       "    }\n",
       "\n",
       "    .dataframe tbody tr th {\n",
       "        vertical-align: top;\n",
       "    }\n",
       "\n",
       "    .dataframe thead th {\n",
       "        text-align: right;\n",
       "    }\n",
       "</style>\n",
       "<table border=\"1\" class=\"dataframe\">\n",
       "  <thead>\n",
       "    <tr style=\"text-align: right;\">\n",
       "      <th></th>\n",
       "      <th>eventid</th>\n",
       "      <th>iyear</th>\n",
       "      <th>imonth</th>\n",
       "      <th>iday</th>\n",
       "      <th>approxdate</th>\n",
       "      <th>extended</th>\n",
       "      <th>resolution</th>\n",
       "      <th>country</th>\n",
       "      <th>country_txt</th>\n",
       "      <th>region</th>\n",
       "      <th>...</th>\n",
       "      <th>addnotes</th>\n",
       "      <th>scite1</th>\n",
       "      <th>scite2</th>\n",
       "      <th>scite3</th>\n",
       "      <th>dbsource</th>\n",
       "      <th>INT_LOG</th>\n",
       "      <th>INT_IDEO</th>\n",
       "      <th>INT_MISC</th>\n",
       "      <th>INT_ANY</th>\n",
       "      <th>related</th>\n",
       "    </tr>\n",
       "  </thead>\n",
       "  <tbody>\n",
       "    <tr>\n",
       "      <th>0</th>\n",
       "      <td>197000000001</td>\n",
       "      <td>1970</td>\n",
       "      <td>7</td>\n",
       "      <td>2</td>\n",
       "      <td>NaN</td>\n",
       "      <td>0</td>\n",
       "      <td>NaN</td>\n",
       "      <td>58</td>\n",
       "      <td>Dominican Republic</td>\n",
       "      <td>2</td>\n",
       "      <td>...</td>\n",
       "      <td>NaN</td>\n",
       "      <td>NaN</td>\n",
       "      <td>NaN</td>\n",
       "      <td>NaN</td>\n",
       "      <td>PGIS</td>\n",
       "      <td>0</td>\n",
       "      <td>0</td>\n",
       "      <td>0</td>\n",
       "      <td>0</td>\n",
       "      <td>NaN</td>\n",
       "    </tr>\n",
       "    <tr>\n",
       "      <th>1</th>\n",
       "      <td>197000000002</td>\n",
       "      <td>1970</td>\n",
       "      <td>0</td>\n",
       "      <td>0</td>\n",
       "      <td>NaN</td>\n",
       "      <td>0</td>\n",
       "      <td>NaN</td>\n",
       "      <td>130</td>\n",
       "      <td>Mexico</td>\n",
       "      <td>1</td>\n",
       "      <td>...</td>\n",
       "      <td>NaN</td>\n",
       "      <td>NaN</td>\n",
       "      <td>NaN</td>\n",
       "      <td>NaN</td>\n",
       "      <td>PGIS</td>\n",
       "      <td>0</td>\n",
       "      <td>1</td>\n",
       "      <td>1</td>\n",
       "      <td>1</td>\n",
       "      <td>NaN</td>\n",
       "    </tr>\n",
       "    <tr>\n",
       "      <th>2</th>\n",
       "      <td>197001000001</td>\n",
       "      <td>1970</td>\n",
       "      <td>1</td>\n",
       "      <td>0</td>\n",
       "      <td>NaN</td>\n",
       "      <td>0</td>\n",
       "      <td>NaN</td>\n",
       "      <td>160</td>\n",
       "      <td>Philippines</td>\n",
       "      <td>5</td>\n",
       "      <td>...</td>\n",
       "      <td>NaN</td>\n",
       "      <td>NaN</td>\n",
       "      <td>NaN</td>\n",
       "      <td>NaN</td>\n",
       "      <td>PGIS</td>\n",
       "      <td>-9</td>\n",
       "      <td>-9</td>\n",
       "      <td>1</td>\n",
       "      <td>1</td>\n",
       "      <td>NaN</td>\n",
       "    </tr>\n",
       "    <tr>\n",
       "      <th>3</th>\n",
       "      <td>197001000002</td>\n",
       "      <td>1970</td>\n",
       "      <td>1</td>\n",
       "      <td>0</td>\n",
       "      <td>NaN</td>\n",
       "      <td>0</td>\n",
       "      <td>NaN</td>\n",
       "      <td>78</td>\n",
       "      <td>Greece</td>\n",
       "      <td>8</td>\n",
       "      <td>...</td>\n",
       "      <td>NaN</td>\n",
       "      <td>NaN</td>\n",
       "      <td>NaN</td>\n",
       "      <td>NaN</td>\n",
       "      <td>PGIS</td>\n",
       "      <td>-9</td>\n",
       "      <td>-9</td>\n",
       "      <td>1</td>\n",
       "      <td>1</td>\n",
       "      <td>NaN</td>\n",
       "    </tr>\n",
       "    <tr>\n",
       "      <th>4</th>\n",
       "      <td>197001000003</td>\n",
       "      <td>1970</td>\n",
       "      <td>1</td>\n",
       "      <td>0</td>\n",
       "      <td>NaN</td>\n",
       "      <td>0</td>\n",
       "      <td>NaN</td>\n",
       "      <td>101</td>\n",
       "      <td>Japan</td>\n",
       "      <td>4</td>\n",
       "      <td>...</td>\n",
       "      <td>NaN</td>\n",
       "      <td>NaN</td>\n",
       "      <td>NaN</td>\n",
       "      <td>NaN</td>\n",
       "      <td>PGIS</td>\n",
       "      <td>-9</td>\n",
       "      <td>-9</td>\n",
       "      <td>1</td>\n",
       "      <td>1</td>\n",
       "      <td>NaN</td>\n",
       "    </tr>\n",
       "  </tbody>\n",
       "</table>\n",
       "<p>5 rows × 135 columns</p>\n",
       "</div>"
      ],
      "text/plain": [
       "        eventid  iyear  imonth  iday approxdate  extended resolution  country  \\\n",
       "0  197000000001   1970       7     2        NaN         0        NaN       58   \n",
       "1  197000000002   1970       0     0        NaN         0        NaN      130   \n",
       "2  197001000001   1970       1     0        NaN         0        NaN      160   \n",
       "3  197001000002   1970       1     0        NaN         0        NaN       78   \n",
       "4  197001000003   1970       1     0        NaN         0        NaN      101   \n",
       "\n",
       "          country_txt  region  ... addnotes scite1 scite2  scite3  dbsource  \\\n",
       "0  Dominican Republic       2  ...      NaN    NaN    NaN     NaN      PGIS   \n",
       "1              Mexico       1  ...      NaN    NaN    NaN     NaN      PGIS   \n",
       "2         Philippines       5  ...      NaN    NaN    NaN     NaN      PGIS   \n",
       "3              Greece       8  ...      NaN    NaN    NaN     NaN      PGIS   \n",
       "4               Japan       4  ...      NaN    NaN    NaN     NaN      PGIS   \n",
       "\n",
       "   INT_LOG  INT_IDEO INT_MISC INT_ANY  related  \n",
       "0        0         0        0       0      NaN  \n",
       "1        0         1        1       1      NaN  \n",
       "2       -9        -9        1       1      NaN  \n",
       "3       -9        -9        1       1      NaN  \n",
       "4       -9        -9        1       1      NaN  \n",
       "\n",
       "[5 rows x 135 columns]"
      ]
     },
     "execution_count": 2,
     "metadata": {},
     "output_type": "execute_result"
    }
   ],
   "source": [
    "df = pd.read_csv('global_terrorism.csv',encoding = 'latin1',low_memory=False)\n",
    "df.head()"
   ]
  },
  {
   "cell_type": "code",
   "execution_count": 3,
   "metadata": {},
   "outputs": [
    {
     "data": {
      "text/plain": [
       "array(['eventid', 'iyear', 'imonth', 'iday', 'approxdate', 'extended',\n",
       "       'resolution', 'country', 'country_txt', 'region', 'region_txt',\n",
       "       'provstate', 'city', 'latitude', 'longitude', 'specificity',\n",
       "       'vicinity', 'location', 'summary', 'crit1', 'crit2', 'crit3',\n",
       "       'doubtterr', 'alternative', 'alternative_txt', 'multiple',\n",
       "       'success', 'suicide', 'attacktype1', 'attacktype1_txt',\n",
       "       'attacktype2', 'attacktype2_txt', 'attacktype3', 'attacktype3_txt',\n",
       "       'targtype1', 'targtype1_txt', 'targsubtype1', 'targsubtype1_txt',\n",
       "       'corp1', 'target1', 'natlty1', 'natlty1_txt', 'targtype2',\n",
       "       'targtype2_txt', 'targsubtype2', 'targsubtype2_txt', 'corp2',\n",
       "       'target2', 'natlty2', 'natlty2_txt', 'targtype3', 'targtype3_txt',\n",
       "       'targsubtype3', 'targsubtype3_txt', 'corp3', 'target3', 'natlty3',\n",
       "       'natlty3_txt', 'gname', 'gsubname', 'gname2', 'gsubname2',\n",
       "       'gname3', 'gsubname3', 'motive', 'guncertain1', 'guncertain2',\n",
       "       'guncertain3', 'individual', 'nperps', 'nperpcap', 'claimed',\n",
       "       'claimmode', 'claimmode_txt', 'claim2', 'claimmode2',\n",
       "       'claimmode2_txt', 'claim3', 'claimmode3', 'claimmode3_txt',\n",
       "       'compclaim', 'weaptype1', 'weaptype1_txt', 'weapsubtype1',\n",
       "       'weapsubtype1_txt', 'weaptype2', 'weaptype2_txt', 'weapsubtype2',\n",
       "       'weapsubtype2_txt', 'weaptype3', 'weaptype3_txt', 'weapsubtype3',\n",
       "       'weapsubtype3_txt', 'weaptype4', 'weaptype4_txt', 'weapsubtype4',\n",
       "       'weapsubtype4_txt', 'weapdetail', 'nkill', 'nkillus', 'nkillter',\n",
       "       'nwound', 'nwoundus', 'nwoundte', 'property', 'propextent',\n",
       "       'propextent_txt', 'propvalue', 'propcomment', 'ishostkid',\n",
       "       'nhostkid', 'nhostkidus', 'nhours', 'ndays', 'divert',\n",
       "       'kidhijcountry', 'ransom', 'ransomamt', 'ransomamtus',\n",
       "       'ransompaid', 'ransompaidus', 'ransomnote', 'hostkidoutcome',\n",
       "       'hostkidoutcome_txt', 'nreleased', 'addnotes', 'scite1', 'scite2',\n",
       "       'scite3', 'dbsource', 'INT_LOG', 'INT_IDEO', 'INT_MISC', 'INT_ANY',\n",
       "       'related'], dtype=object)"
      ]
     },
     "execution_count": 3,
     "metadata": {},
     "output_type": "execute_result"
    }
   ],
   "source": [
    "df.columns.values"
   ]
  },
  {
   "cell_type": "markdown",
   "metadata": {},
   "source": [
    "### Data Cleaning"
   ]
  },
  {
   "cell_type": "code",
   "execution_count": 4,
   "metadata": {},
   "outputs": [
    {
     "data": {
      "text/html": [
       "<div>\n",
       "<style scoped>\n",
       "    .dataframe tbody tr th:only-of-type {\n",
       "        vertical-align: middle;\n",
       "    }\n",
       "\n",
       "    .dataframe tbody tr th {\n",
       "        vertical-align: top;\n",
       "    }\n",
       "\n",
       "    .dataframe thead th {\n",
       "        text-align: right;\n",
       "    }\n",
       "</style>\n",
       "<table border=\"1\" class=\"dataframe\">\n",
       "  <thead>\n",
       "    <tr style=\"text-align: right;\">\n",
       "      <th></th>\n",
       "      <th>eventid</th>\n",
       "      <th>iyear</th>\n",
       "      <th>imonth</th>\n",
       "      <th>iday</th>\n",
       "      <th>country_txt</th>\n",
       "      <th>region_txt</th>\n",
       "      <th>provstate</th>\n",
       "      <th>city</th>\n",
       "      <th>attacktype1_txt</th>\n",
       "      <th>targtype1_txt</th>\n",
       "      <th>weaptype1_txt</th>\n",
       "      <th>weapsubtype1_txt</th>\n",
       "      <th>nkill</th>\n",
       "      <th>nwoundte</th>\n",
       "      <th>gname</th>\n",
       "    </tr>\n",
       "  </thead>\n",
       "  <tbody>\n",
       "    <tr>\n",
       "      <th>0</th>\n",
       "      <td>197000000001</td>\n",
       "      <td>1970</td>\n",
       "      <td>7</td>\n",
       "      <td>2</td>\n",
       "      <td>Dominican Republic</td>\n",
       "      <td>Central America &amp; Caribbean</td>\n",
       "      <td>NaN</td>\n",
       "      <td>Santo Domingo</td>\n",
       "      <td>Assassination</td>\n",
       "      <td>Private Citizens &amp; Property</td>\n",
       "      <td>Unknown</td>\n",
       "      <td>NaN</td>\n",
       "      <td>1.0</td>\n",
       "      <td>NaN</td>\n",
       "      <td>MANO-D</td>\n",
       "    </tr>\n",
       "    <tr>\n",
       "      <th>1</th>\n",
       "      <td>197000000002</td>\n",
       "      <td>1970</td>\n",
       "      <td>0</td>\n",
       "      <td>0</td>\n",
       "      <td>Mexico</td>\n",
       "      <td>North America</td>\n",
       "      <td>Federal</td>\n",
       "      <td>Mexico city</td>\n",
       "      <td>Hostage Taking (Kidnapping)</td>\n",
       "      <td>Government (Diplomatic)</td>\n",
       "      <td>Unknown</td>\n",
       "      <td>NaN</td>\n",
       "      <td>0.0</td>\n",
       "      <td>NaN</td>\n",
       "      <td>23rd of September Communist League</td>\n",
       "    </tr>\n",
       "    <tr>\n",
       "      <th>2</th>\n",
       "      <td>197001000001</td>\n",
       "      <td>1970</td>\n",
       "      <td>1</td>\n",
       "      <td>0</td>\n",
       "      <td>Philippines</td>\n",
       "      <td>Southeast Asia</td>\n",
       "      <td>Tarlac</td>\n",
       "      <td>Unknown</td>\n",
       "      <td>Assassination</td>\n",
       "      <td>Journalists &amp; Media</td>\n",
       "      <td>Unknown</td>\n",
       "      <td>NaN</td>\n",
       "      <td>1.0</td>\n",
       "      <td>NaN</td>\n",
       "      <td>Unknown</td>\n",
       "    </tr>\n",
       "    <tr>\n",
       "      <th>3</th>\n",
       "      <td>197001000002</td>\n",
       "      <td>1970</td>\n",
       "      <td>1</td>\n",
       "      <td>0</td>\n",
       "      <td>Greece</td>\n",
       "      <td>Western Europe</td>\n",
       "      <td>Attica</td>\n",
       "      <td>Athens</td>\n",
       "      <td>Bombing/Explosion</td>\n",
       "      <td>Government (Diplomatic)</td>\n",
       "      <td>Explosives</td>\n",
       "      <td>Unknown Explosive Type</td>\n",
       "      <td>NaN</td>\n",
       "      <td>NaN</td>\n",
       "      <td>Unknown</td>\n",
       "    </tr>\n",
       "    <tr>\n",
       "      <th>4</th>\n",
       "      <td>197001000003</td>\n",
       "      <td>1970</td>\n",
       "      <td>1</td>\n",
       "      <td>0</td>\n",
       "      <td>Japan</td>\n",
       "      <td>East Asia</td>\n",
       "      <td>Fukouka</td>\n",
       "      <td>Fukouka</td>\n",
       "      <td>Facility/Infrastructure Attack</td>\n",
       "      <td>Government (Diplomatic)</td>\n",
       "      <td>Incendiary</td>\n",
       "      <td>NaN</td>\n",
       "      <td>NaN</td>\n",
       "      <td>NaN</td>\n",
       "      <td>Unknown</td>\n",
       "    </tr>\n",
       "  </tbody>\n",
       "</table>\n",
       "</div>"
      ],
      "text/plain": [
       "        eventid  iyear  imonth  iday         country_txt  \\\n",
       "0  197000000001   1970       7     2  Dominican Republic   \n",
       "1  197000000002   1970       0     0              Mexico   \n",
       "2  197001000001   1970       1     0         Philippines   \n",
       "3  197001000002   1970       1     0              Greece   \n",
       "4  197001000003   1970       1     0               Japan   \n",
       "\n",
       "                    region_txt provstate           city  \\\n",
       "0  Central America & Caribbean       NaN  Santo Domingo   \n",
       "1                North America   Federal    Mexico city   \n",
       "2               Southeast Asia    Tarlac        Unknown   \n",
       "3               Western Europe    Attica         Athens   \n",
       "4                    East Asia   Fukouka        Fukouka   \n",
       "\n",
       "                  attacktype1_txt                targtype1_txt weaptype1_txt  \\\n",
       "0                   Assassination  Private Citizens & Property       Unknown   \n",
       "1     Hostage Taking (Kidnapping)      Government (Diplomatic)       Unknown   \n",
       "2                   Assassination          Journalists & Media       Unknown   \n",
       "3               Bombing/Explosion      Government (Diplomatic)    Explosives   \n",
       "4  Facility/Infrastructure Attack      Government (Diplomatic)    Incendiary   \n",
       "\n",
       "         weapsubtype1_txt  nkill  nwoundte                               gname  \n",
       "0                     NaN    1.0       NaN                              MANO-D  \n",
       "1                     NaN    0.0       NaN  23rd of September Communist League  \n",
       "2                     NaN    1.0       NaN                             Unknown  \n",
       "3  Unknown Explosive Type    NaN       NaN                             Unknown  \n",
       "4                     NaN    NaN       NaN                             Unknown  "
      ]
     },
     "execution_count": 4,
     "metadata": {},
     "output_type": "execute_result"
    }
   ],
   "source": [
    "data = df[['eventid', 'iyear', 'imonth', 'iday','country_txt', 'region_txt','provstate','city','attacktype1_txt',\n",
    "          'targtype1_txt','weaptype1_txt','weapsubtype1_txt', 'nkill','nwoundte','gname']]\n",
    "data.head()"
   ]
  },
  {
   "cell_type": "code",
   "execution_count": 5,
   "metadata": {},
   "outputs": [
    {
     "data": {
      "text/html": [
       "<div>\n",
       "<style scoped>\n",
       "    .dataframe tbody tr th:only-of-type {\n",
       "        vertical-align: middle;\n",
       "    }\n",
       "\n",
       "    .dataframe tbody tr th {\n",
       "        vertical-align: top;\n",
       "    }\n",
       "\n",
       "    .dataframe thead th {\n",
       "        text-align: right;\n",
       "    }\n",
       "</style>\n",
       "<table border=\"1\" class=\"dataframe\">\n",
       "  <thead>\n",
       "    <tr style=\"text-align: right;\">\n",
       "      <th></th>\n",
       "      <th>eventid</th>\n",
       "      <th>iyear</th>\n",
       "      <th>imonth</th>\n",
       "      <th>iday</th>\n",
       "      <th>country_txt</th>\n",
       "      <th>region_txt</th>\n",
       "      <th>provstate</th>\n",
       "      <th>city</th>\n",
       "      <th>attacktype1_txt</th>\n",
       "      <th>targtype1_txt</th>\n",
       "      <th>weaptype1_txt</th>\n",
       "      <th>weapsubtype1_txt</th>\n",
       "      <th>nkill</th>\n",
       "      <th>nwoundte</th>\n",
       "      <th>gname</th>\n",
       "    </tr>\n",
       "  </thead>\n",
       "  <tbody>\n",
       "    <tr>\n",
       "      <th>181686</th>\n",
       "      <td>201712310022</td>\n",
       "      <td>2017</td>\n",
       "      <td>12</td>\n",
       "      <td>31</td>\n",
       "      <td>Somalia</td>\n",
       "      <td>Sub-Saharan Africa</td>\n",
       "      <td>Middle Shebelle</td>\n",
       "      <td>Ceelka Geelow</td>\n",
       "      <td>Armed Assault</td>\n",
       "      <td>Military</td>\n",
       "      <td>Firearms</td>\n",
       "      <td>Unknown Gun Type</td>\n",
       "      <td>1.0</td>\n",
       "      <td>0.0</td>\n",
       "      <td>Al-Shabaab</td>\n",
       "    </tr>\n",
       "    <tr>\n",
       "      <th>181687</th>\n",
       "      <td>201712310029</td>\n",
       "      <td>2017</td>\n",
       "      <td>12</td>\n",
       "      <td>31</td>\n",
       "      <td>Syria</td>\n",
       "      <td>Middle East &amp; North Africa</td>\n",
       "      <td>Lattakia</td>\n",
       "      <td>Jableh</td>\n",
       "      <td>Bombing/Explosion</td>\n",
       "      <td>Military</td>\n",
       "      <td>Explosives</td>\n",
       "      <td>Projectile (rockets, mortars, RPGs, etc.)</td>\n",
       "      <td>2.0</td>\n",
       "      <td>0.0</td>\n",
       "      <td>Muslim extremists</td>\n",
       "    </tr>\n",
       "    <tr>\n",
       "      <th>181688</th>\n",
       "      <td>201712310030</td>\n",
       "      <td>2017</td>\n",
       "      <td>12</td>\n",
       "      <td>31</td>\n",
       "      <td>Philippines</td>\n",
       "      <td>Southeast Asia</td>\n",
       "      <td>Maguindanao</td>\n",
       "      <td>Kubentog</td>\n",
       "      <td>Facility/Infrastructure Attack</td>\n",
       "      <td>Private Citizens &amp; Property</td>\n",
       "      <td>Incendiary</td>\n",
       "      <td>Arson/Fire</td>\n",
       "      <td>0.0</td>\n",
       "      <td>0.0</td>\n",
       "      <td>Bangsamoro Islamic Freedom Movement (BIFM)</td>\n",
       "    </tr>\n",
       "    <tr>\n",
       "      <th>181689</th>\n",
       "      <td>201712310031</td>\n",
       "      <td>2017</td>\n",
       "      <td>12</td>\n",
       "      <td>31</td>\n",
       "      <td>India</td>\n",
       "      <td>South Asia</td>\n",
       "      <td>Manipur</td>\n",
       "      <td>Imphal</td>\n",
       "      <td>Bombing/Explosion</td>\n",
       "      <td>Government (General)</td>\n",
       "      <td>Explosives</td>\n",
       "      <td>Grenade</td>\n",
       "      <td>0.0</td>\n",
       "      <td>0.0</td>\n",
       "      <td>Unknown</td>\n",
       "    </tr>\n",
       "    <tr>\n",
       "      <th>181690</th>\n",
       "      <td>201712310032</td>\n",
       "      <td>2017</td>\n",
       "      <td>12</td>\n",
       "      <td>31</td>\n",
       "      <td>Philippines</td>\n",
       "      <td>Southeast Asia</td>\n",
       "      <td>Maguindanao</td>\n",
       "      <td>Cotabato City</td>\n",
       "      <td>Bombing/Explosion</td>\n",
       "      <td>Unknown</td>\n",
       "      <td>Explosives</td>\n",
       "      <td>Unknown Explosive Type</td>\n",
       "      <td>0.0</td>\n",
       "      <td>0.0</td>\n",
       "      <td>Unknown</td>\n",
       "    </tr>\n",
       "  </tbody>\n",
       "</table>\n",
       "</div>"
      ],
      "text/plain": [
       "             eventid  iyear  imonth  iday  country_txt  \\\n",
       "181686  201712310022   2017      12    31      Somalia   \n",
       "181687  201712310029   2017      12    31        Syria   \n",
       "181688  201712310030   2017      12    31  Philippines   \n",
       "181689  201712310031   2017      12    31        India   \n",
       "181690  201712310032   2017      12    31  Philippines   \n",
       "\n",
       "                        region_txt        provstate           city  \\\n",
       "181686          Sub-Saharan Africa  Middle Shebelle  Ceelka Geelow   \n",
       "181687  Middle East & North Africa         Lattakia         Jableh   \n",
       "181688              Southeast Asia      Maguindanao       Kubentog   \n",
       "181689                  South Asia          Manipur         Imphal   \n",
       "181690              Southeast Asia      Maguindanao  Cotabato City   \n",
       "\n",
       "                       attacktype1_txt                targtype1_txt  \\\n",
       "181686                   Armed Assault                     Military   \n",
       "181687               Bombing/Explosion                     Military   \n",
       "181688  Facility/Infrastructure Attack  Private Citizens & Property   \n",
       "181689               Bombing/Explosion         Government (General)   \n",
       "181690               Bombing/Explosion                      Unknown   \n",
       "\n",
       "       weaptype1_txt                           weapsubtype1_txt  nkill  \\\n",
       "181686      Firearms                           Unknown Gun Type    1.0   \n",
       "181687    Explosives  Projectile (rockets, mortars, RPGs, etc.)    2.0   \n",
       "181688    Incendiary                                 Arson/Fire    0.0   \n",
       "181689    Explosives                                    Grenade    0.0   \n",
       "181690    Explosives                     Unknown Explosive Type    0.0   \n",
       "\n",
       "        nwoundte                                       gname  \n",
       "181686       0.0                                  Al-Shabaab  \n",
       "181687       0.0                           Muslim extremists  \n",
       "181688       0.0  Bangsamoro Islamic Freedom Movement (BIFM)  \n",
       "181689       0.0                                     Unknown  \n",
       "181690       0.0                                     Unknown  "
      ]
     },
     "execution_count": 5,
     "metadata": {},
     "output_type": "execute_result"
    }
   ],
   "source": [
    "data.tail()"
   ]
  },
  {
   "cell_type": "code",
   "execution_count": 6,
   "metadata": {},
   "outputs": [],
   "source": [
    "# Renaming the coulmns\n",
    "data.columns = ['id', 'year', 'month', 'day','country', 'region','state','city','attack_type',\n",
    "          'target_type','weaptype','weapsubtype', 'fatalities','injury','gname']"
   ]
  },
  {
   "cell_type": "code",
   "execution_count": 7,
   "metadata": {},
   "outputs": [
    {
     "data": {
      "text/html": [
       "<div>\n",
       "<style scoped>\n",
       "    .dataframe tbody tr th:only-of-type {\n",
       "        vertical-align: middle;\n",
       "    }\n",
       "\n",
       "    .dataframe tbody tr th {\n",
       "        vertical-align: top;\n",
       "    }\n",
       "\n",
       "    .dataframe thead th {\n",
       "        text-align: right;\n",
       "    }\n",
       "</style>\n",
       "<table border=\"1\" class=\"dataframe\">\n",
       "  <thead>\n",
       "    <tr style=\"text-align: right;\">\n",
       "      <th></th>\n",
       "      <th>id</th>\n",
       "      <th>year</th>\n",
       "      <th>month</th>\n",
       "      <th>day</th>\n",
       "      <th>country</th>\n",
       "      <th>region</th>\n",
       "      <th>state</th>\n",
       "      <th>city</th>\n",
       "      <th>attack_type</th>\n",
       "      <th>target_type</th>\n",
       "      <th>weaptype</th>\n",
       "      <th>weapsubtype</th>\n",
       "      <th>fatalities</th>\n",
       "      <th>injury</th>\n",
       "      <th>gname</th>\n",
       "    </tr>\n",
       "  </thead>\n",
       "  <tbody>\n",
       "    <tr>\n",
       "      <th>0</th>\n",
       "      <td>197000000001</td>\n",
       "      <td>1970</td>\n",
       "      <td>7</td>\n",
       "      <td>2</td>\n",
       "      <td>Dominican Republic</td>\n",
       "      <td>Central America &amp; Caribbean</td>\n",
       "      <td>NaN</td>\n",
       "      <td>Santo Domingo</td>\n",
       "      <td>Assassination</td>\n",
       "      <td>Private Citizens &amp; Property</td>\n",
       "      <td>Unknown</td>\n",
       "      <td>NaN</td>\n",
       "      <td>1.0</td>\n",
       "      <td>NaN</td>\n",
       "      <td>MANO-D</td>\n",
       "    </tr>\n",
       "    <tr>\n",
       "      <th>1</th>\n",
       "      <td>197000000002</td>\n",
       "      <td>1970</td>\n",
       "      <td>0</td>\n",
       "      <td>0</td>\n",
       "      <td>Mexico</td>\n",
       "      <td>North America</td>\n",
       "      <td>Federal</td>\n",
       "      <td>Mexico city</td>\n",
       "      <td>Hostage Taking (Kidnapping)</td>\n",
       "      <td>Government (Diplomatic)</td>\n",
       "      <td>Unknown</td>\n",
       "      <td>NaN</td>\n",
       "      <td>0.0</td>\n",
       "      <td>NaN</td>\n",
       "      <td>23rd of September Communist League</td>\n",
       "    </tr>\n",
       "    <tr>\n",
       "      <th>2</th>\n",
       "      <td>197001000001</td>\n",
       "      <td>1970</td>\n",
       "      <td>1</td>\n",
       "      <td>0</td>\n",
       "      <td>Philippines</td>\n",
       "      <td>Southeast Asia</td>\n",
       "      <td>Tarlac</td>\n",
       "      <td>Unknown</td>\n",
       "      <td>Assassination</td>\n",
       "      <td>Journalists &amp; Media</td>\n",
       "      <td>Unknown</td>\n",
       "      <td>NaN</td>\n",
       "      <td>1.0</td>\n",
       "      <td>NaN</td>\n",
       "      <td>Unknown</td>\n",
       "    </tr>\n",
       "    <tr>\n",
       "      <th>3</th>\n",
       "      <td>197001000002</td>\n",
       "      <td>1970</td>\n",
       "      <td>1</td>\n",
       "      <td>0</td>\n",
       "      <td>Greece</td>\n",
       "      <td>Western Europe</td>\n",
       "      <td>Attica</td>\n",
       "      <td>Athens</td>\n",
       "      <td>Bombing/Explosion</td>\n",
       "      <td>Government (Diplomatic)</td>\n",
       "      <td>Explosives</td>\n",
       "      <td>Unknown Explosive Type</td>\n",
       "      <td>NaN</td>\n",
       "      <td>NaN</td>\n",
       "      <td>Unknown</td>\n",
       "    </tr>\n",
       "    <tr>\n",
       "      <th>4</th>\n",
       "      <td>197001000003</td>\n",
       "      <td>1970</td>\n",
       "      <td>1</td>\n",
       "      <td>0</td>\n",
       "      <td>Japan</td>\n",
       "      <td>East Asia</td>\n",
       "      <td>Fukouka</td>\n",
       "      <td>Fukouka</td>\n",
       "      <td>Facility/Infrastructure Attack</td>\n",
       "      <td>Government (Diplomatic)</td>\n",
       "      <td>Incendiary</td>\n",
       "      <td>NaN</td>\n",
       "      <td>NaN</td>\n",
       "      <td>NaN</td>\n",
       "      <td>Unknown</td>\n",
       "    </tr>\n",
       "    <tr>\n",
       "      <th>5</th>\n",
       "      <td>197001010002</td>\n",
       "      <td>1970</td>\n",
       "      <td>1</td>\n",
       "      <td>1</td>\n",
       "      <td>United States</td>\n",
       "      <td>North America</td>\n",
       "      <td>Illinois</td>\n",
       "      <td>Cairo</td>\n",
       "      <td>Armed Assault</td>\n",
       "      <td>Police</td>\n",
       "      <td>Firearms</td>\n",
       "      <td>Unknown Gun Type</td>\n",
       "      <td>0.0</td>\n",
       "      <td>0.0</td>\n",
       "      <td>Black Nationalists</td>\n",
       "    </tr>\n",
       "    <tr>\n",
       "      <th>6</th>\n",
       "      <td>197001020001</td>\n",
       "      <td>1970</td>\n",
       "      <td>1</td>\n",
       "      <td>2</td>\n",
       "      <td>Uruguay</td>\n",
       "      <td>South America</td>\n",
       "      <td>Montevideo</td>\n",
       "      <td>Montevideo</td>\n",
       "      <td>Assassination</td>\n",
       "      <td>Police</td>\n",
       "      <td>Firearms</td>\n",
       "      <td>Automatic or Semi-Automatic Rifle</td>\n",
       "      <td>0.0</td>\n",
       "      <td>NaN</td>\n",
       "      <td>Tupamaros (Uruguay)</td>\n",
       "    </tr>\n",
       "  </tbody>\n",
       "</table>\n",
       "</div>"
      ],
      "text/plain": [
       "             id  year  month  day             country  \\\n",
       "0  197000000001  1970      7    2  Dominican Republic   \n",
       "1  197000000002  1970      0    0              Mexico   \n",
       "2  197001000001  1970      1    0         Philippines   \n",
       "3  197001000002  1970      1    0              Greece   \n",
       "4  197001000003  1970      1    0               Japan   \n",
       "5  197001010002  1970      1    1       United States   \n",
       "6  197001020001  1970      1    2             Uruguay   \n",
       "\n",
       "                        region       state           city  \\\n",
       "0  Central America & Caribbean         NaN  Santo Domingo   \n",
       "1                North America     Federal    Mexico city   \n",
       "2               Southeast Asia      Tarlac        Unknown   \n",
       "3               Western Europe      Attica         Athens   \n",
       "4                    East Asia     Fukouka        Fukouka   \n",
       "5                North America    Illinois          Cairo   \n",
       "6                South America  Montevideo     Montevideo   \n",
       "\n",
       "                      attack_type                  target_type    weaptype  \\\n",
       "0                   Assassination  Private Citizens & Property     Unknown   \n",
       "1     Hostage Taking (Kidnapping)      Government (Diplomatic)     Unknown   \n",
       "2                   Assassination          Journalists & Media     Unknown   \n",
       "3               Bombing/Explosion      Government (Diplomatic)  Explosives   \n",
       "4  Facility/Infrastructure Attack      Government (Diplomatic)  Incendiary   \n",
       "5                   Armed Assault                       Police    Firearms   \n",
       "6                   Assassination                       Police    Firearms   \n",
       "\n",
       "                         weapsubtype  fatalities  injury  \\\n",
       "0                                NaN         1.0     NaN   \n",
       "1                                NaN         0.0     NaN   \n",
       "2                                NaN         1.0     NaN   \n",
       "3             Unknown Explosive Type         NaN     NaN   \n",
       "4                                NaN         NaN     NaN   \n",
       "5                   Unknown Gun Type         0.0     0.0   \n",
       "6  Automatic or Semi-Automatic Rifle         0.0     NaN   \n",
       "\n",
       "                                gname  \n",
       "0                              MANO-D  \n",
       "1  23rd of September Communist League  \n",
       "2                             Unknown  \n",
       "3                             Unknown  \n",
       "4                             Unknown  \n",
       "5                  Black Nationalists  \n",
       "6                 Tupamaros (Uruguay)  "
      ]
     },
     "execution_count": 7,
     "metadata": {},
     "output_type": "execute_result"
    }
   ],
   "source": [
    "data.head(7)"
   ]
  },
  {
   "cell_type": "markdown",
   "metadata": {},
   "source": [
    "### Data Analysis"
   ]
  },
  {
   "cell_type": "code",
   "execution_count": 8,
   "metadata": {},
   "outputs": [
    {
     "data": {
      "text/plain": [
       "(181691, 15)"
      ]
     },
     "execution_count": 8,
     "metadata": {},
     "output_type": "execute_result"
    }
   ],
   "source": [
    "data.shape"
   ]
  },
  {
   "cell_type": "code",
   "execution_count": 9,
   "metadata": {},
   "outputs": [
    {
     "data": {
      "text/plain": [
       "array(['id', 'year', 'month', 'day', 'country', 'region', 'state', 'city',\n",
       "       'attack_type', 'target_type', 'weaptype', 'weapsubtype',\n",
       "       'fatalities', 'injury', 'gname'], dtype=object)"
      ]
     },
     "execution_count": 9,
     "metadata": {},
     "output_type": "execute_result"
    }
   ],
   "source": [
    "data.columns.values"
   ]
  },
  {
   "cell_type": "code",
   "execution_count": 10,
   "metadata": {},
   "outputs": [
    {
     "name": "stdout",
     "output_type": "stream",
     "text": [
      "<class 'pandas.core.frame.DataFrame'>\n",
      "RangeIndex: 181691 entries, 0 to 181690\n",
      "Data columns (total 15 columns):\n",
      " #   Column       Non-Null Count   Dtype  \n",
      "---  ------       --------------   -----  \n",
      " 0   id           181691 non-null  int64  \n",
      " 1   year         181691 non-null  int64  \n",
      " 2   month        181691 non-null  int64  \n",
      " 3   day          181691 non-null  int64  \n",
      " 4   country      181691 non-null  object \n",
      " 5   region       181691 non-null  object \n",
      " 6   state        181270 non-null  object \n",
      " 7   city         181257 non-null  object \n",
      " 8   attack_type  181691 non-null  object \n",
      " 9   target_type  181691 non-null  object \n",
      " 10  weaptype     181691 non-null  object \n",
      " 11  weapsubtype  160923 non-null  object \n",
      " 12  fatalities   171378 non-null  float64\n",
      " 13  injury       112548 non-null  float64\n",
      " 14  gname        181691 non-null  object \n",
      "dtypes: float64(2), int64(4), object(9)\n",
      "memory usage: 20.8+ MB\n"
     ]
    }
   ],
   "source": [
    "data.info()"
   ]
  },
  {
   "cell_type": "code",
   "execution_count": 11,
   "metadata": {},
   "outputs": [
    {
     "data": {
      "text/html": [
       "<div>\n",
       "<style scoped>\n",
       "    .dataframe tbody tr th:only-of-type {\n",
       "        vertical-align: middle;\n",
       "    }\n",
       "\n",
       "    .dataframe tbody tr th {\n",
       "        vertical-align: top;\n",
       "    }\n",
       "\n",
       "    .dataframe thead th {\n",
       "        text-align: right;\n",
       "    }\n",
       "</style>\n",
       "<table border=\"1\" class=\"dataframe\">\n",
       "  <thead>\n",
       "    <tr style=\"text-align: right;\">\n",
       "      <th></th>\n",
       "      <th>items</th>\n",
       "      <th>Number of missing values</th>\n",
       "    </tr>\n",
       "  </thead>\n",
       "  <tbody>\n",
       "    <tr>\n",
       "      <th>0</th>\n",
       "      <td>id</td>\n",
       "      <td>0</td>\n",
       "    </tr>\n",
       "    <tr>\n",
       "      <th>1</th>\n",
       "      <td>year</td>\n",
       "      <td>0</td>\n",
       "    </tr>\n",
       "    <tr>\n",
       "      <th>2</th>\n",
       "      <td>month</td>\n",
       "      <td>0</td>\n",
       "    </tr>\n",
       "    <tr>\n",
       "      <th>3</th>\n",
       "      <td>day</td>\n",
       "      <td>0</td>\n",
       "    </tr>\n",
       "    <tr>\n",
       "      <th>4</th>\n",
       "      <td>country</td>\n",
       "      <td>0</td>\n",
       "    </tr>\n",
       "    <tr>\n",
       "      <th>5</th>\n",
       "      <td>region</td>\n",
       "      <td>0</td>\n",
       "    </tr>\n",
       "    <tr>\n",
       "      <th>6</th>\n",
       "      <td>state</td>\n",
       "      <td>421</td>\n",
       "    </tr>\n",
       "    <tr>\n",
       "      <th>7</th>\n",
       "      <td>city</td>\n",
       "      <td>434</td>\n",
       "    </tr>\n",
       "    <tr>\n",
       "      <th>8</th>\n",
       "      <td>attack_type</td>\n",
       "      <td>0</td>\n",
       "    </tr>\n",
       "    <tr>\n",
       "      <th>9</th>\n",
       "      <td>target_type</td>\n",
       "      <td>0</td>\n",
       "    </tr>\n",
       "    <tr>\n",
       "      <th>10</th>\n",
       "      <td>weaptype</td>\n",
       "      <td>0</td>\n",
       "    </tr>\n",
       "    <tr>\n",
       "      <th>11</th>\n",
       "      <td>weapsubtype</td>\n",
       "      <td>20768</td>\n",
       "    </tr>\n",
       "    <tr>\n",
       "      <th>12</th>\n",
       "      <td>fatalities</td>\n",
       "      <td>10313</td>\n",
       "    </tr>\n",
       "    <tr>\n",
       "      <th>13</th>\n",
       "      <td>injury</td>\n",
       "      <td>69143</td>\n",
       "    </tr>\n",
       "    <tr>\n",
       "      <th>14</th>\n",
       "      <td>gname</td>\n",
       "      <td>0</td>\n",
       "    </tr>\n",
       "  </tbody>\n",
       "</table>\n",
       "</div>"
      ],
      "text/plain": [
       "          items  Number of missing values\n",
       "0            id                         0\n",
       "1          year                         0\n",
       "2         month                         0\n",
       "3           day                         0\n",
       "4       country                         0\n",
       "5        region                         0\n",
       "6         state                       421\n",
       "7          city                       434\n",
       "8   attack_type                         0\n",
       "9   target_type                         0\n",
       "10     weaptype                         0\n",
       "11  weapsubtype                     20768\n",
       "12   fatalities                     10313\n",
       "13       injury                     69143\n",
       "14        gname                         0"
      ]
     },
     "execution_count": 11,
     "metadata": {},
     "output_type": "execute_result"
    }
   ],
   "source": [
    "# Missing values\n",
    "missing_values = data.isnull().sum().reset_index()\n",
    "missing_values.columns = ['items','Number of missing values']\n",
    "missing_values"
   ]
  },
  {
   "cell_type": "code",
   "execution_count": 12,
   "metadata": {},
   "outputs": [
    {
     "data": {
      "text/html": [
       "<div>\n",
       "<style scoped>\n",
       "    .dataframe tbody tr th:only-of-type {\n",
       "        vertical-align: middle;\n",
       "    }\n",
       "\n",
       "    .dataframe tbody tr th {\n",
       "        vertical-align: top;\n",
       "    }\n",
       "\n",
       "    .dataframe thead th {\n",
       "        text-align: right;\n",
       "    }\n",
       "</style>\n",
       "<table border=\"1\" class=\"dataframe\">\n",
       "  <thead>\n",
       "    <tr style=\"text-align: right;\">\n",
       "      <th></th>\n",
       "      <th>id</th>\n",
       "      <th>year</th>\n",
       "      <th>month</th>\n",
       "      <th>day</th>\n",
       "      <th>fatalities</th>\n",
       "      <th>injury</th>\n",
       "    </tr>\n",
       "  </thead>\n",
       "  <tbody>\n",
       "    <tr>\n",
       "      <th>id</th>\n",
       "      <td>1.000000</td>\n",
       "      <td>0.999996</td>\n",
       "      <td>0.002706</td>\n",
       "      <td>0.018336</td>\n",
       "      <td>0.015351</td>\n",
       "      <td>0.027904</td>\n",
       "    </tr>\n",
       "    <tr>\n",
       "      <th>year</th>\n",
       "      <td>0.999996</td>\n",
       "      <td>1.000000</td>\n",
       "      <td>0.000139</td>\n",
       "      <td>0.018254</td>\n",
       "      <td>0.015341</td>\n",
       "      <td>0.027879</td>\n",
       "    </tr>\n",
       "    <tr>\n",
       "      <th>month</th>\n",
       "      <td>0.002706</td>\n",
       "      <td>0.000139</td>\n",
       "      <td>1.000000</td>\n",
       "      <td>0.005497</td>\n",
       "      <td>0.003463</td>\n",
       "      <td>0.005091</td>\n",
       "    </tr>\n",
       "    <tr>\n",
       "      <th>day</th>\n",
       "      <td>0.018336</td>\n",
       "      <td>0.018254</td>\n",
       "      <td>0.005497</td>\n",
       "      <td>1.000000</td>\n",
       "      <td>-0.003693</td>\n",
       "      <td>0.001812</td>\n",
       "    </tr>\n",
       "    <tr>\n",
       "      <th>fatalities</th>\n",
       "      <td>0.015351</td>\n",
       "      <td>0.015341</td>\n",
       "      <td>0.003463</td>\n",
       "      <td>-0.003693</td>\n",
       "      <td>1.000000</td>\n",
       "      <td>0.141016</td>\n",
       "    </tr>\n",
       "    <tr>\n",
       "      <th>injury</th>\n",
       "      <td>0.027904</td>\n",
       "      <td>0.027879</td>\n",
       "      <td>0.005091</td>\n",
       "      <td>0.001812</td>\n",
       "      <td>0.141016</td>\n",
       "      <td>1.000000</td>\n",
       "    </tr>\n",
       "  </tbody>\n",
       "</table>\n",
       "</div>"
      ],
      "text/plain": [
       "                  id      year     month       day  fatalities    injury\n",
       "id          1.000000  0.999996  0.002706  0.018336    0.015351  0.027904\n",
       "year        0.999996  1.000000  0.000139  0.018254    0.015341  0.027879\n",
       "month       0.002706  0.000139  1.000000  0.005497    0.003463  0.005091\n",
       "day         0.018336  0.018254  0.005497  1.000000   -0.003693  0.001812\n",
       "fatalities  0.015351  0.015341  0.003463 -0.003693    1.000000  0.141016\n",
       "injury      0.027904  0.027879  0.005091  0.001812    0.141016  1.000000"
      ]
     },
     "execution_count": 12,
     "metadata": {},
     "output_type": "execute_result"
    }
   ],
   "source": [
    "data.corr()"
   ]
  },
  {
   "cell_type": "code",
   "execution_count": 13,
   "metadata": {},
   "outputs": [
    {
     "data": {
      "image/png": "[encoded data removed]",
      "text/plain": [
       "<Figure size 792x504 with 2 Axes>"
      ]
     },
     "metadata": {
      "needs_background": "light"
     },
     "output_type": "display_data"
    }
   ],
   "source": [
    "plt.figure(figsize = (11,7))\n",
    "sns.heatmap(data.corr(),annot = True,linecolor = 'white',linewidth = 3)\n",
    "plt.show()"
   ]
  },
  {
   "cell_type": "code",
   "execution_count": 14,
   "metadata": {},
   "outputs": [
    {
     "name": "stdout",
     "output_type": "stream",
     "text": [
      "2014    16903\n",
      "2015    14965\n",
      "2016    13587\n",
      "2013    12036\n",
      "2017    10900\n",
      "2012     8522\n",
      "2011     5076\n",
      "1992     5071\n",
      "2010     4826\n",
      "2008     4805\n",
      "Name: year, dtype: int64\n"
     ]
    },
    {
     "data": {
      "image/png": "[encoded data removed]",
      "text/plain": [
       "<Figure size 792x504 with 1 Axes>"
      ]
     },
     "metadata": {},
     "output_type": "display_data"
    }
   ],
   "source": [
    "print(data['year'].value_counts().head(10))\n",
    "plt.figure(figsize=(11,7))\n",
    "data['year'].value_counts().head(10).plot.pie(autopct='%1.2f%%')\n",
    "plt.show()"
   ]
  },
  {
   "cell_type": "markdown",
   "metadata": {},
   "source": [
    "####  Most number of terror attacks are happend in the year 2014...!!!"
   ]
  },
  {
   "cell_type": "code",
   "execution_count": 15,
   "metadata": {},
   "outputs": [
    {
     "data": {
      "text/plain": [
       "Middle East & North Africa     50474\n",
       "South Asia                     44974\n",
       "South America                  18978\n",
       "Sub-Saharan Africa             17550\n",
       "Western Europe                 16639\n",
       "Southeast Asia                 12485\n",
       "Central America & Caribbean    10344\n",
       "Eastern Europe                  5144\n",
       "North America                   3456\n",
       "East Asia                        802\n",
       "Central Asia                     563\n",
       "Australasia & Oceania            282\n",
       "Name: region, dtype: int64"
      ]
     },
     "execution_count": 15,
     "metadata": {},
     "output_type": "execute_result"
    },
    {
     "data": {
      "image/png": "[encoded data removed]",
      "text/plain": [
       "<Figure size 504x360 with 1 Axes>"
      ]
     },
     "metadata": {
      "needs_background": "light"
     },
     "output_type": "display_data"
    }
   ],
   "source": [
    "plt.figure(figsize =(7,5))\n",
    "sns.countplot(x = data['region'])\n",
    "plt.xticks(rotation = 90)\n",
    "\n",
    "data['region'].value_counts().sort_values(ascending = False)"
   ]
  },
  {
   "cell_type": "markdown",
   "metadata": {},
   "source": [
    "#### Regions Middle East & North Africa and South Asia are HOT ZONES of terrorism...!!!"
   ]
  },
  {
   "cell_type": "code",
   "execution_count": 16,
   "metadata": {},
   "outputs": [
    {
     "name": "stdout",
     "output_type": "stream",
     "text": [
      "Iraq              24636\n",
      "Pakistan          14368\n",
      "Afghanistan       12731\n",
      "India             11960\n",
      "Colombia           8306\n",
      "Philippines        6908\n",
      "Peru               6096\n",
      "El Salvador        5320\n",
      "United Kingdom     5235\n",
      "Turkey             4292\n",
      "Somalia            4142\n",
      "Name: country, dtype: int64\n"
     ]
    },
    {
     "data": {
      "image/png": "[encoded data removed]",
      "text/plain": [
       "<Figure size 504x360 with 1 Axes>"
      ]
     },
     "metadata": {
      "needs_background": "light"
     },
     "output_type": "display_data"
    }
   ],
   "source": [
    "print(data['country'].value_counts().head(11))\n",
    "plt.figure(figsize = (7,5))\n",
    "data['country'].value_counts().head(11).plot(kind = 'bar',color = 'purple')\n",
    "plt.show()"
   ]
  },
  {
   "cell_type": "markdown",
   "metadata": {},
   "source": [
    "#### As per above analysis country Iraq is HOT ZONE of terrorism...!!!"
   ]
  },
  {
   "cell_type": "code",
   "execution_count": 17,
   "metadata": {},
   "outputs": [
    {
     "name": "stdout",
     "output_type": "stream",
     "text": [
      "Baghdad         7589\n",
      "Karachi         2652\n",
      "Lima            2359\n",
      "Mosul           2265\n",
      "Belfast         2171\n",
      "Santiago        1621\n",
      "Mogadishu       1581\n",
      "San Salvador    1558\n",
      "Istanbul        1048\n",
      "Athens          1019\n",
      "Name: city, dtype: int64\n"
     ]
    },
    {
     "data": {
      "image/png": "[encoded data removed]",
      "text/plain": [
       "<Figure size 504x360 with 1 Axes>"
      ]
     },
     "metadata": {
      "needs_background": "light"
     },
     "output_type": "display_data"
    }
   ],
   "source": [
    "print(data['city'].value_counts()[1:11])\n",
    "plt.figure(figsize = (7,5))\n",
    "data['city'].value_counts()[1:11].plot(kind = 'bar',color = 'purple')\n",
    "plt.show()"
   ]
  },
  {
   "cell_type": "markdown",
   "metadata": {},
   "source": [
    "#### According to above analysis Baghdad city of Iraq is HOT ZONE of terrorism...!!!"
   ]
  },
  {
   "cell_type": "code",
   "execution_count": 30,
   "metadata": {},
   "outputs": [
    {
     "data": {
      "text/html": [
       "<div>\n",
       "<style scoped>\n",
       "    .dataframe tbody tr th:only-of-type {\n",
       "        vertical-align: middle;\n",
       "    }\n",
       "\n",
       "    .dataframe tbody tr th {\n",
       "        vertical-align: top;\n",
       "    }\n",
       "\n",
       "    .dataframe thead th {\n",
       "        text-align: right;\n",
       "    }\n",
       "</style>\n",
       "<table border=\"1\" class=\"dataframe\">\n",
       "  <thead>\n",
       "    <tr style=\"text-align: right;\">\n",
       "      <th></th>\n",
       "      <th>fatalities</th>\n",
       "      <th>injury</th>\n",
       "    </tr>\n",
       "    <tr>\n",
       "      <th>year</th>\n",
       "      <th></th>\n",
       "      <th></th>\n",
       "    </tr>\n",
       "  </thead>\n",
       "  <tbody>\n",
       "    <tr>\n",
       "      <th>2007</th>\n",
       "      <td>12824.0</td>\n",
       "      <td>120.0</td>\n",
       "    </tr>\n",
       "    <tr>\n",
       "      <th>2008</th>\n",
       "      <td>9157.0</td>\n",
       "      <td>79.0</td>\n",
       "    </tr>\n",
       "    <tr>\n",
       "      <th>2009</th>\n",
       "      <td>9273.0</td>\n",
       "      <td>55.0</td>\n",
       "    </tr>\n",
       "    <tr>\n",
       "      <th>2010</th>\n",
       "      <td>7827.0</td>\n",
       "      <td>125.0</td>\n",
       "    </tr>\n",
       "    <tr>\n",
       "      <th>2011</th>\n",
       "      <td>8246.0</td>\n",
       "      <td>231.0</td>\n",
       "    </tr>\n",
       "    <tr>\n",
       "      <th>2012</th>\n",
       "      <td>15497.0</td>\n",
       "      <td>444.0</td>\n",
       "    </tr>\n",
       "    <tr>\n",
       "      <th>2013</th>\n",
       "      <td>22273.0</td>\n",
       "      <td>557.0</td>\n",
       "    </tr>\n",
       "    <tr>\n",
       "      <th>2014</th>\n",
       "      <td>44490.0</td>\n",
       "      <td>1848.0</td>\n",
       "    </tr>\n",
       "    <tr>\n",
       "      <th>2015</th>\n",
       "      <td>38853.0</td>\n",
       "      <td>2946.0</td>\n",
       "    </tr>\n",
       "    <tr>\n",
       "      <th>2016</th>\n",
       "      <td>34871.0</td>\n",
       "      <td>2677.0</td>\n",
       "    </tr>\n",
       "    <tr>\n",
       "      <th>2017</th>\n",
       "      <td>26445.0</td>\n",
       "      <td>2153.0</td>\n",
       "    </tr>\n",
       "  </tbody>\n",
       "</table>\n",
       "</div>"
      ],
      "text/plain": [
       "      fatalities  injury\n",
       "year                    \n",
       "2007     12824.0   120.0\n",
       "2008      9157.0    79.0\n",
       "2009      9273.0    55.0\n",
       "2010      7827.0   125.0\n",
       "2011      8246.0   231.0\n",
       "2012     15497.0   444.0\n",
       "2013     22273.0   557.0\n",
       "2014     44490.0  1848.0\n",
       "2015     38853.0  2946.0\n",
       "2016     34871.0  2677.0\n",
       "2017     26445.0  2153.0"
      ]
     },
     "execution_count": 30,
     "metadata": {},
     "output_type": "execute_result"
    }
   ],
   "source": [
    "# Fatalities and injuries (year wise)\n",
    "data.groupby('year')[['fatalities','injury']].sum().tail(11)"
   ]
  },
  {
   "cell_type": "code",
   "execution_count": 19,
   "metadata": {},
   "outputs": [
    {
     "data": {
      "text/html": [
       "<div>\n",
       "<style scoped>\n",
       "    .dataframe tbody tr th:only-of-type {\n",
       "        vertical-align: middle;\n",
       "    }\n",
       "\n",
       "    .dataframe tbody tr th {\n",
       "        vertical-align: top;\n",
       "    }\n",
       "\n",
       "    .dataframe thead th {\n",
       "        text-align: right;\n",
       "    }\n",
       "</style>\n",
       "<table border=\"1\" class=\"dataframe\">\n",
       "  <thead>\n",
       "    <tr style=\"text-align: right;\">\n",
       "      <th></th>\n",
       "      <th>fatalities</th>\n",
       "      <th>injury</th>\n",
       "    </tr>\n",
       "    <tr>\n",
       "      <th>region</th>\n",
       "      <th></th>\n",
       "      <th></th>\n",
       "    </tr>\n",
       "  </thead>\n",
       "  <tbody>\n",
       "    <tr>\n",
       "      <th>Middle East &amp; North Africa</th>\n",
       "      <td>137642.0</td>\n",
       "      <td>2020.0</td>\n",
       "    </tr>\n",
       "    <tr>\n",
       "      <th>South Asia</th>\n",
       "      <td>101319.0</td>\n",
       "      <td>8161.0</td>\n",
       "    </tr>\n",
       "    <tr>\n",
       "      <th>Sub-Saharan Africa</th>\n",
       "      <td>78386.0</td>\n",
       "      <td>736.0</td>\n",
       "    </tr>\n",
       "    <tr>\n",
       "      <th>South America</th>\n",
       "      <td>28849.0</td>\n",
       "      <td>69.0</td>\n",
       "    </tr>\n",
       "    <tr>\n",
       "      <th>Central America &amp; Caribbean</th>\n",
       "      <td>28708.0</td>\n",
       "      <td>21.0</td>\n",
       "    </tr>\n",
       "    <tr>\n",
       "      <th>Southeast Asia</th>\n",
       "      <td>15637.0</td>\n",
       "      <td>430.0</td>\n",
       "    </tr>\n",
       "    <tr>\n",
       "      <th>Eastern Europe</th>\n",
       "      <td>7415.0</td>\n",
       "      <td>474.0</td>\n",
       "    </tr>\n",
       "    <tr>\n",
       "      <th>Western Europe</th>\n",
       "      <td>6694.0</td>\n",
       "      <td>63.0</td>\n",
       "    </tr>\n",
       "    <tr>\n",
       "      <th>North America</th>\n",
       "      <td>4916.0</td>\n",
       "      <td>37.0</td>\n",
       "    </tr>\n",
       "    <tr>\n",
       "      <th>East Asia</th>\n",
       "      <td>1152.0</td>\n",
       "      <td>34.0</td>\n",
       "    </tr>\n",
       "    <tr>\n",
       "      <th>Central Asia</th>\n",
       "      <td>1000.0</td>\n",
       "      <td>9.0</td>\n",
       "    </tr>\n",
       "    <tr>\n",
       "      <th>Australasia &amp; Oceania</th>\n",
       "      <td>150.0</td>\n",
       "      <td>7.0</td>\n",
       "    </tr>\n",
       "  </tbody>\n",
       "</table>\n",
       "</div>"
      ],
      "text/plain": [
       "                             fatalities  injury\n",
       "region                                         \n",
       "Middle East & North Africa     137642.0  2020.0\n",
       "South Asia                     101319.0  8161.0\n",
       "Sub-Saharan Africa              78386.0   736.0\n",
       "South America                   28849.0    69.0\n",
       "Central America & Caribbean     28708.0    21.0\n",
       "Southeast Asia                  15637.0   430.0\n",
       "Eastern Europe                   7415.0   474.0\n",
       "Western Europe                   6694.0    63.0\n",
       "North America                    4916.0    37.0\n",
       "East Asia                        1152.0    34.0\n",
       "Central Asia                     1000.0     9.0\n",
       "Australasia & Oceania             150.0     7.0"
      ]
     },
     "execution_count": 19,
     "metadata": {},
     "output_type": "execute_result"
    }
   ],
   "source": [
    "region_data = data.groupby('region')[['fatalities','injury']].sum().sort_values(by = 'fatalities',ascending = False)\n",
    "region_data"
   ]
  },
  {
   "cell_type": "code",
   "execution_count": null,
   "metadata": {},
   "outputs": [],
   "source": []
  },
  {
   "cell_type": "code",
   "execution_count": 20,
   "metadata": {},
   "outputs": [
    {
     "data": {
      "text/html": [
       "<div>\n",
       "<style scoped>\n",
       "    .dataframe tbody tr th:only-of-type {\n",
       "        vertical-align: middle;\n",
       "    }\n",
       "\n",
       "    .dataframe tbody tr th {\n",
       "        vertical-align: top;\n",
       "    }\n",
       "\n",
       "    .dataframe thead th {\n",
       "        text-align: right;\n",
       "    }\n",
       "</style>\n",
       "<table border=\"1\" class=\"dataframe\">\n",
       "  <thead>\n",
       "    <tr style=\"text-align: right;\">\n",
       "      <th></th>\n",
       "      <th>country</th>\n",
       "      <th>state</th>\n",
       "      <th>city</th>\n",
       "      <th>fatalities</th>\n",
       "      <th>injury</th>\n",
       "    </tr>\n",
       "  </thead>\n",
       "  <tbody>\n",
       "    <tr>\n",
       "      <th>17033</th>\n",
       "      <td>Iraq</td>\n",
       "      <td>Baghdad</td>\n",
       "      <td>Baghdad</td>\n",
       "      <td>21149.0</td>\n",
       "      <td>20.0</td>\n",
       "    </tr>\n",
       "    <tr>\n",
       "      <th>17819</th>\n",
       "      <td>Iraq</td>\n",
       "      <td>Nineveh</td>\n",
       "      <td>Mosul</td>\n",
       "      <td>7125.0</td>\n",
       "      <td>50.0</td>\n",
       "    </tr>\n",
       "    <tr>\n",
       "      <th>32331</th>\n",
       "      <td>Somalia</td>\n",
       "      <td>Banaadir</td>\n",
       "      <td>Mogadishu</td>\n",
       "      <td>3913.0</td>\n",
       "      <td>20.0</td>\n",
       "    </tr>\n",
       "    <tr>\n",
       "      <th>26785</th>\n",
       "      <td>Pakistan</td>\n",
       "      <td>Sindh</td>\n",
       "      <td>Karachi</td>\n",
       "      <td>3686.0</td>\n",
       "      <td>42.0</td>\n",
       "    </tr>\n",
       "    <tr>\n",
       "      <th>39412</th>\n",
       "      <td>United States</td>\n",
       "      <td>New York</td>\n",
       "      <td>New York City</td>\n",
       "      <td>2830.0</td>\n",
       "      <td>3.0</td>\n",
       "    </tr>\n",
       "    <tr>\n",
       "      <th>18167</th>\n",
       "      <td>Iraq</td>\n",
       "      <td>Saladin</td>\n",
       "      <td>Tikrit</td>\n",
       "      <td>2679.0</td>\n",
       "      <td>15.0</td>\n",
       "    </tr>\n",
       "    <tr>\n",
       "      <th>1261</th>\n",
       "      <td>Afghanistan</td>\n",
       "      <td>Kabul</td>\n",
       "      <td>Kabul</td>\n",
       "      <td>2493.0</td>\n",
       "      <td>9.0</td>\n",
       "    </tr>\n",
       "    <tr>\n",
       "      <th>16846</th>\n",
       "      <td>Iraq</td>\n",
       "      <td>Al Anbar</td>\n",
       "      <td>Ramadi</td>\n",
       "      <td>2312.0</td>\n",
       "      <td>34.0</td>\n",
       "    </tr>\n",
       "    <tr>\n",
       "      <th>23580</th>\n",
       "      <td>Nigeria</td>\n",
       "      <td>Borno</td>\n",
       "      <td>Maiduguri</td>\n",
       "      <td>2234.0</td>\n",
       "      <td>11.0</td>\n",
       "    </tr>\n",
       "    <tr>\n",
       "      <th>35291</th>\n",
       "      <td>Syria</td>\n",
       "      <td>Aleppo</td>\n",
       "      <td>Aleppo</td>\n",
       "      <td>2125.0</td>\n",
       "      <td>0.0</td>\n",
       "    </tr>\n",
       "  </tbody>\n",
       "</table>\n",
       "</div>"
      ],
      "text/plain": [
       "             country     state           city  fatalities  injury\n",
       "17033           Iraq   Baghdad        Baghdad     21149.0    20.0\n",
       "17819           Iraq   Nineveh          Mosul      7125.0    50.0\n",
       "32331        Somalia  Banaadir      Mogadishu      3913.0    20.0\n",
       "26785       Pakistan     Sindh        Karachi      3686.0    42.0\n",
       "39412  United States  New York  New York City      2830.0     3.0\n",
       "18167           Iraq   Saladin         Tikrit      2679.0    15.0\n",
       "1261     Afghanistan     Kabul          Kabul      2493.0     9.0\n",
       "16846           Iraq  Al Anbar         Ramadi      2312.0    34.0\n",
       "23580        Nigeria     Borno      Maiduguri      2234.0    11.0\n",
       "35291          Syria    Aleppo         Aleppo      2125.0     0.0"
      ]
     },
     "execution_count": 20,
     "metadata": {},
     "output_type": "execute_result"
    }
   ],
   "source": [
    "country_data = data.groupby(['country','state','city'])[['fatalities',\n",
    "'injury']].sum().reset_index().sort_values(by = 'fatalities',ascending = False).head(10)\n",
    "country_data"
   ]
  },
  {
   "cell_type": "code",
   "execution_count": 21,
   "metadata": {},
   "outputs": [
    {
     "name": "stdout",
     "output_type": "stream",
     "text": [
      "country\n",
      "Iraq           78589.0\n",
      "Afghanistan    39384.0\n",
      "Pakistan       23822.0\n",
      "Nigeria        22682.0\n",
      "India          19341.0\n",
      "Sri Lanka      15530.0\n",
      "Syria          15229.0\n",
      "Colombia       14698.0\n",
      "Peru           12771.0\n",
      "El Salvador    12053.0\n",
      "Algeria        11066.0\n",
      "Name: fatalities, dtype: float64\n"
     ]
    },
    {
     "data": {
      "image/png": "[encoded data removed]",
      "text/plain": [
       "<Figure size 504x360 with 1 Axes>"
      ]
     },
     "metadata": {
      "needs_background": "light"
     },
     "output_type": "display_data"
    }
   ],
   "source": [
    "print(data.groupby('country')['fatalities'].sum().sort_values(ascending = False).head(11))\n",
    "plt.figure(figsize=(7,5))\n",
    "data.groupby('country')['fatalities'].sum().sort_values(ascending = False).head(11).plot(kind = 'bar')\n",
    "plt.show()"
   ]
  },
  {
   "cell_type": "code",
   "execution_count": 22,
   "metadata": {},
   "outputs": [
    {
     "data": {
      "text/plain": [
       "state\n",
       "Baghdad                                21215.0\n",
       "Unknown                                15476.0\n",
       "Nineveh                                15185.0\n",
       "Borno                                  12063.0\n",
       "Al Anbar                               12009.0\n",
       "Saladin                                10673.0\n",
       "Diyala                                  7779.0\n",
       "Eastern                                 6323.0\n",
       "Northern                                5955.0\n",
       "Punjab                                  5452.0\n",
       "Federally Administered Tribal Areas     5213.0\n",
       "Name: fatalities, dtype: float64"
      ]
     },
     "execution_count": 22,
     "metadata": {},
     "output_type": "execute_result"
    }
   ],
   "source": [
    "data.groupby('state')['fatalities'].sum().sort_values(ascending = False).head(11)"
   ]
  },
  {
   "cell_type": "code",
   "execution_count": 23,
   "metadata": {},
   "outputs": [
    {
     "data": {
      "text/plain": [
       "city\n",
       "Baghdad          21151.0\n",
       "Mosul             7140.0\n",
       "Mogadishu         3913.0\n",
       "Karachi           3688.0\n",
       "New York City     2838.0\n",
       "Tikrit            2679.0\n",
       "Kabul             2493.0\n",
       "Ramadi            2313.0\n",
       "Maiduguri         2235.0\n",
       "Aleppo            2125.0\n",
       "Name: fatalities, dtype: float64"
      ]
     },
     "execution_count": 23,
     "metadata": {},
     "output_type": "execute_result"
    }
   ],
   "source": [
    "data.groupby('city')['fatalities'].sum().sort_values(ascending = False)[1:11]"
   ]
  },
  {
   "cell_type": "code",
   "execution_count": 24,
   "metadata": {},
   "outputs": [
    {
     "name": "stdout",
     "output_type": "stream",
     "text": [
      "Private Citizens & Property       43511\n",
      "Military                          27984\n",
      "Police                            24506\n",
      "Government (General)              21283\n",
      "Business                          20669\n",
      "Transportation                     6799\n",
      "Utilities                          6023\n",
      "Unknown                            5898\n",
      "Religious Figures/Institutions     4440\n",
      "Educational Institution            4322\n",
      "Government (Diplomatic)            3573\n",
      "Terrorists/Non-State Militia       3039\n",
      "Journalists & Media                2948\n",
      "Violent Political Party            1866\n",
      "Airports & Aircraft                1343\n",
      "Telecommunication                  1009\n",
      "NGO                                 970\n",
      "Tourists                            440\n",
      "Maritime                            351\n",
      "Food or Water Supply                317\n",
      "Abortion Related                    263\n",
      "Other                               137\n",
      "Name: target_type, dtype: int64\n"
     ]
    },
    {
     "data": {
      "image/png": "[encoded data removed]",
      "text/plain": [
       "<Figure size 936x360 with 1 Axes>"
      ]
     },
     "metadata": {
      "needs_background": "light"
     },
     "output_type": "display_data"
    }
   ],
   "source": [
    "plt.figure(figsize = (13,5))\n",
    "sns.countplot(x = data['target_type'])\n",
    "plt.xticks(rotation = 90)\n",
    "print(data['target_type'].value_counts())"
   ]
  },
  {
   "cell_type": "code",
   "execution_count": 25,
   "metadata": {},
   "outputs": [
    {
     "name": "stdout",
     "output_type": "stream",
     "text": [
      "Bombing/Explosion                      88255\n",
      "Armed Assault                          42669\n",
      "Assassination                          19312\n",
      "Hostage Taking (Kidnapping)            11158\n",
      "Facility/Infrastructure Attack         10356\n",
      "Unknown                                 7276\n",
      "Unarmed Assault                         1015\n",
      "Hostage Taking (Barricade Incident)      991\n",
      "Hijacking                                659\n",
      "Name: attack_type, dtype: int64\n"
     ]
    },
    {
     "data": {
      "image/png": "[encoded data removed]",
      "text/plain": [
       "<Figure size 504x360 with 1 Axes>"
      ]
     },
     "metadata": {
      "needs_background": "light"
     },
     "output_type": "display_data"
    }
   ],
   "source": [
    "plt.figure(figsize = (7,5))\n",
    "sns.countplot(x = data['attack_type'])\n",
    "plt.xticks(rotation = 90)\n",
    "print(data['attack_type'].value_counts())"
   ]
  },
  {
   "cell_type": "code",
   "execution_count": 26,
   "metadata": {},
   "outputs": [
    {
     "name": "stdout",
     "output_type": "stream",
     "text": [
      "Explosives            92426\n",
      "Firearms              58524\n",
      "Unknown               15157\n",
      "Incendiary            11135\n",
      "Melee                  3655\n",
      "Chemical                321\n",
      "Sabotage Equipment      141\n",
      "Name: weaptype, dtype: int64\n"
     ]
    },
    {
     "data": {
      "image/png": "[encoded data removed]",
      "text/plain": [
       "<Figure size 504x360 with 1 Axes>"
      ]
     },
     "metadata": {
      "needs_background": "light"
     },
     "output_type": "display_data"
    }
   ],
   "source": [
    "plt.figure(figsize = (7,5))\n",
    "data['weaptype'].value_counts().head(7).plot(kind = 'bar',color = 'purple')\n",
    "print(data['weaptype'].value_counts().head(7))"
   ]
  },
  {
   "cell_type": "code",
   "execution_count": 27,
   "metadata": {},
   "outputs": [
    {
     "name": "stdout",
     "output_type": "stream",
     "text": [
      "Taliban                                             7478\n",
      "Islamic State of Iraq and the Levant (ISIL)         5613\n",
      "Shining Path (SL)                                   4555\n",
      "Farabundo Marti National Liberation Front (FMLN)    3351\n",
      "Al-Shabaab                                          3288\n",
      "New People's Army (NPA)                             2772\n",
      "Irish Republican Army (IRA)                         2671\n",
      "Name: gname, dtype: int64\n"
     ]
    },
    {
     "data": {
      "image/png": "[encoded data removed]",
      "text/plain": [
       "<Figure size 504x360 with 1 Axes>"
      ]
     },
     "metadata": {
      "needs_background": "light"
     },
     "output_type": "display_data"
    }
   ],
   "source": [
    "plt.figure(figsize = (7,5))\n",
    "data['gname'].value_counts()[1:8].plot(kind = 'bar',color = 'purple')\n",
    "print(data['gname'].value_counts()[1:8])"
   ]
  },
  {
   "cell_type": "code",
   "execution_count": 28,
   "metadata": {},
   "outputs": [
    {
     "data": {
      "image/png": "[encoded data removed]",
      "text/plain": [
       "<Figure size 504x360 with 1 Axes>"
      ]
     },
     "metadata": {},
     "output_type": "display_data"
    }
   ],
   "source": [
    "plt.figure(figsize = (7,5))\n",
    "data['gname'].value_counts()[1:7].plot.pie(autopct='%1.2f%%')\n",
    "plt.show()"
   ]
  },
  {
   "cell_type": "markdown",
   "metadata": {},
   "source": [
    "## Conclusion\n",
    "#### 1 - Regions Middle East & North Africa and South Asia are HOT ZONES of terrorism...!!!\n",
    "#### 2 - Country Iraq and city Baghdad are HOT ZONES of terrorism...!!!\n",
    "#### 3 - Regions Middle East & North Africa and South Asia recorded more fatalities as compared to other regions...!!!\n",
    "#### 4 - Country Iraq and city Baghdad recorded more fatalities as compared to other countries and cities...!!!\n",
    "#### 5 - Private Citizens & Property, Military, Police are targeted most in terror attacks...!!!\n",
    "#### 6 - Bombing/Explosion, Armed Assault, Assassination these are top three attack types...!!!\n",
    "#### 7 - Explosives, Firearms are mostly used in terror attacks...!!!"
   ]
  },
  {
   "cell_type": "markdown",
   "metadata": {},
   "source": [
    "## Thank You...!!!"
   ]
  }
 ],
 "metadata": {
  "kernelspec": {
   "display_name": "Python 3",
   "language": "python",
   "name": "python3"
  },
  "language_info": {
   "codemirror_mode": {
    "name": "ipython",
    "version": 3
   },
   "file_extension": ".py",
   "mimetype": "text/x-python",
   "name": "python",
   "nbconvert_exporter": "python",
   "pygments_lexer": "ipython3",
   "version": "3.8.3"
  }
 },
 "nbformat": 4,
 "nbformat_minor": 4
}
